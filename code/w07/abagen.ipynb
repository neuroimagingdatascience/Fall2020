{
 "cells": [
  {
   "cell_type": "markdown",
   "metadata": {
    "slideshow": {
     "slide_type": "slide"
    }
   },
   "source": [
    "# Reproducible workflows for whole-brain transcriptomics\n",
    "\n",
    "Presented for NEUR 608, Neuroimaging Data Science (FA2020) by [Ross Markello](https://rossmarkello.com)."
   ]
  },
  {
   "cell_type": "markdown",
   "metadata": {
    "slideshow": {
     "slide_type": "subslide"
    }
   },
   "source": [
    "### Relevant citations\n",
    "\n",
    "- Arnatkevic̆iūtė A, Fulcher BD, Fornito A. (2018). A practical guide to linking brain-wide gene expression and neuroimaging data. *NeuroImage*, 189, 353-67. doi:[10.1016/j.neuroimage.2019.01.011](https://doi.org/10.1016/j.neuroimage.2019.01.011).\n",
    "\n",
    "- Markello, R, Shafiei, G, Zheng, Y-Q, Misic, B. (2020). `abagen`: A toolbox for the Allen Brain Atlas genetics data. Zenodo, doi:[10.5281/zenodo.3451463](https://doi.org/10.5281/zenodo.3451463)."
   ]
  },
  {
   "cell_type": "markdown",
   "metadata": {
    "slideshow": {
     "slide_type": "subslide"
    }
   },
   "source": [
    "Note: This presentation was created in a [Jupyter notebook](https://jupyter.org/) with the [RISE extension](https://rise.readthedocs.io/en/stable/).\n",
    "\n",
    "You can access the original Jupyter notebook at: https://bit.ly/rmarkello_neur608_20201016"
   ]
  },
  {
   "cell_type": "markdown",
   "metadata": {
    "slideshow": {
     "slide_type": "fragment"
    }
   },
   "source": [
    "All that to say, when you see a cell like this:"
   ]
  },
  {
   "cell_type": "code",
   "execution_count": 1,
   "metadata": {
    "slideshow": {
     "slide_type": "fragment"
    }
   },
   "outputs": [
    {
     "name": "stdout",
     "output_type": "stream",
     "text": [
      "this is code!\n"
     ]
    }
   ],
   "source": [
    "print('this is code!')"
   ]
  },
  {
   "cell_type": "markdown",
   "metadata": {
    "slideshow": {
     "slide_type": "fragment"
    }
   },
   "source": [
    "you should run the command in your Python terminal (but only if you want to follow along with the demo yourself!)."
   ]
  },
  {
   "cell_type": "markdown",
   "metadata": {
    "slideshow": {
     "slide_type": "subslide"
    }
   },
   "source": [
    "## Before we begin: Installing `abagen`"
   ]
  },
  {
   "cell_type": "markdown",
   "metadata": {
    "slideshow": {
     "slide_type": "fragment"
    }
   },
   "source": [
    "You'll need a working installation of Python 3.6+ and then you can run:\n",
    "\n",
    "```\n",
    "$ pip install --upgrade abagen\n",
    "```\n",
    "\n",
    "(`--upgrade` will ensure you install the newest version just released ~yesterday!)"
   ]
  },
  {
   "cell_type": "markdown",
   "metadata": {
    "slideshow": {
     "slide_type": "fragment"
    }
   },
   "source": [
    "Verify that abagen is installed correctly by typing:\n",
    "    \n",
    "```\n",
    "$ abagen --version\n",
    "```\n",
    "\n",
    "(You should see: `abagen 0.0.7`!)"
   ]
  },
  {
   "cell_type": "markdown",
   "metadata": {
    "slideshow": {
     "slide_type": "fragment"
    }
   },
   "source": [
    "Finally, open up a python terminal (type `python` in your terminal) and run the following two commands (which we'll let run in the background for a bit!):"
   ]
  },
  {
   "cell_type": "code",
   "execution_count": 2,
   "metadata": {
    "slideshow": {
     "slide_type": "fragment"
    }
   },
   "outputs": [],
   "source": [
    "import abagen\n",
    "files = abagen.fetch_microarray(donors='all', n_proc=-1)"
   ]
  },
  {
   "cell_type": "markdown",
   "metadata": {
    "slideshow": {
     "slide_type": "slide"
    }
   },
   "source": [
    "# The [Allen Human Brain Atlas](https://human.brain-map.org) (AHBA)"
   ]
  },
  {
   "cell_type": "markdown",
   "metadata": {
    "slideshow": {
     "slide_type": "fragment"
    }
   },
   "source": [
    "<center><img src=\"ahba.png\" alt=\"Allen Human Brain Atlas\" style=\"width: 1800px\"\\></center>"
   ]
  },
  {
   "cell_type": "markdown",
   "metadata": {
    "slideshow": {
     "slide_type": "subslide"
    }
   },
   "source": [
    "## AHBA: By the numbers"
   ]
  },
  {
   "cell_type": "markdown",
   "metadata": {
    "slideshow": {
     "slide_type": "fragment"
    }
   },
   "source": [
    "- 6 post-mortem donor brains (24-57 years of age, 5 males)"
   ]
  },
  {
   "cell_type": "markdown",
   "metadata": {
    "slideshow": {
     "slide_type": "fragment"
    }
   },
   "source": [
    "- 3,702 spatially-distinct tissue samples"
   ]
  },
  {
   "cell_type": "markdown",
   "metadata": {
    "slideshow": {
     "slide_type": "fragment"
    }
   },
   "source": [
    "- 58,692 unique microarray probes indexing >20,000 distinct genes"
   ]
  },
  {
   "cell_type": "markdown",
   "metadata": {
    "slideshow": {
     "slide_type": "subslide"
    }
   },
   "source": [
    "## AHBA: Gene expression in the wild"
   ]
  },
  {
   "cell_type": "markdown",
   "metadata": {
    "slideshow": {
     "slide_type": "fragment"
    }
   },
   "source": [
    "- Impacts on functional connectivity within resting state networks (e.g, Richiardi et al., 2015, _Science_)"
   ]
  },
  {
   "cell_type": "markdown",
   "metadata": {
    "slideshow": {
     "slide_type": "fragment"
    }
   },
   "source": [
    "- Relation to temporal and topological properties of large-scale functional networks (Vértes et al., 2016, _Phil Trans R Soc B_)"
   ]
  },
  {
   "cell_type": "markdown",
   "metadata": {
    "slideshow": {
     "slide_type": "subslide"
    }
   },
   "source": [
    "<center><img src=\"vertes2016.jpg\" alt=\"Vertes et al., 2016, Phil Trans R Soc B\" style=\"height: 1100px\"\\></center>"
   ]
  },
  {
   "cell_type": "markdown",
   "metadata": {
    "slideshow": {
     "slide_type": "subslide"
    }
   },
   "source": [
    "## AHBA: Gene expression in the wild"
   ]
  },
  {
   "cell_type": "markdown",
   "metadata": {
    "slideshow": {
     "slide_type": "-"
    }
   },
   "source": [
    "- Impacts on functional connectivity within resting state networks (e.g, Richiardi et al., 2015, _Science_)"
   ]
  },
  {
   "cell_type": "markdown",
   "metadata": {
    "slideshow": {
     "slide_type": "-"
    }
   },
   "source": [
    "- Relation to temporal and topological properties of large-scale functional networks (Vértes et al., 2016, _Phil Trans R Soc B_)"
   ]
  },
  {
   "cell_type": "markdown",
   "metadata": {
    "slideshow": {
     "slide_type": "fragment"
    }
   },
   "source": [
    "- Regional maturation during adolescent brain development (Whitaker, Vértes, et al., 2016, _PNAS_)"
   ]
  },
  {
   "cell_type": "markdown",
   "metadata": {
    "slideshow": {
     "slide_type": "subslide"
    }
   },
   "source": [
    "<center><img src=\"whitakervertes2016.jpg\" alt=\"Figure from Whitaker, Vertes et al., 2016, PNAS\" style=\"height: 1040px\"\\></center>"
   ]
  },
  {
   "cell_type": "markdown",
   "metadata": {
    "slideshow": {
     "slide_type": "subslide"
    }
   },
   "source": [
    "## AHBA: Gene expression in the wild"
   ]
  },
  {
   "cell_type": "markdown",
   "metadata": {
    "slideshow": {
     "slide_type": "-"
    }
   },
   "source": [
    "- Impacts on functional connectivity within resting state networks (e.g, Richiardi et al., 2015, _Science_)"
   ]
  },
  {
   "cell_type": "markdown",
   "metadata": {
    "slideshow": {
     "slide_type": "-"
    }
   },
   "source": [
    "- Relation to temporal and topological properties of large-scale functional networks (Vértes et al., 2016, _Phil Trans R Soc B_)"
   ]
  },
  {
   "cell_type": "markdown",
   "metadata": {
    "slideshow": {
     "slide_type": "-"
    }
   },
   "source": [
    "- Regional maturation during adolescent brain development (Whitaker, Vértes, et al., 2016, _PNAS_)"
   ]
  },
  {
   "cell_type": "markdown",
   "metadata": {
    "slideshow": {
     "slide_type": "fragment"
    }
   },
   "source": [
    "- Functional specialization of brain regions (Anderson et al., 2018, _Nat Commun_)"
   ]
  },
  {
   "cell_type": "markdown",
   "metadata": {
    "slideshow": {
     "slide_type": "subslide"
    }
   },
   "source": [
    "<center><img src=\"anderson.jpg\" alt=\"Figure from Anderson et al., 2018, Nat Commun\" style=\"height: 1000px\"\\></center>"
   ]
  },
  {
   "cell_type": "markdown",
   "metadata": {
    "slideshow": {
     "slide_type": "slide"
    }
   },
   "source": [
    "# [`abagen`](https://github.com/rmarkello/abagen): A toolbox$^{*}$ for the Allen Human Brain Atlas$^{**}$\n",
    "\n",
    "($^{*}$More of a workflow, really)\n",
    "\n",
    "($^{**}$Also has some functionality for working with mouse data$^{†}$)\n",
    "\n",
    "($^{†}$We won't get into that here, though)"
   ]
  },
  {
   "cell_type": "markdown",
   "metadata": {
    "slideshow": {
     "slide_type": "subslide"
    }
   },
   "source": [
    "## Motivation behind `abagen`"
   ]
  },
  {
   "cell_type": "markdown",
   "metadata": {
    "slideshow": {
     "slide_type": "fragment"
    }
   },
   "source": [
    "- **Primary**: Make it as easy as possible for our lab to—reproducibly + transparently—prepare AHBA data for analysis"
   ]
  },
  {
   "cell_type": "markdown",
   "metadata": {
    "slideshow": {
     "slide_type": "fragment"
    }
   },
   "source": [
    "- **Secondary**: Develop a community-driven, open-source Python toolbox so people stop _reinventing the wheel_ to process AHBA data"
   ]
  },
  {
   "cell_type": "markdown",
   "metadata": {
    "slideshow": {
     "slide_type": "fragment"
    }
   },
   "source": [
    "- **Tertiary**: Procrastinate working on a different PhD project"
   ]
  },
  {
   "cell_type": "markdown",
   "metadata": {
    "slideshow": {
     "slide_type": "subslide"
    }
   },
   "source": [
    "## `abagen` quickstart"
   ]
  },
  {
   "cell_type": "markdown",
   "metadata": {
    "slideshow": {
     "slide_type": "fragment"
    }
   },
   "source": [
    "Three(-ish) lines of code to get you parcellated microarray expression data from the AHBA:"
   ]
  },
  {
   "cell_type": "code",
   "execution_count": 3,
   "metadata": {
    "slideshow": {
     "slide_type": "fragment"
    }
   },
   "outputs": [],
   "source": [
    "import abagen"
   ]
  },
  {
   "cell_type": "code",
   "execution_count": 4,
   "metadata": {
    "slideshow": {
     "slide_type": "fragment"
    }
   },
   "outputs": [],
   "source": [
    "atlas = abagen.fetch_desikan_killiany()"
   ]
  },
  {
   "cell_type": "code",
   "execution_count": 5,
   "metadata": {
    "slideshow": {
     "slide_type": "fragment"
    }
   },
   "outputs": [
    {
     "name": "stderr",
     "output_type": "stream",
     "text": [
      "INFO: Group-level atlas provided; using MNI coordinates for tissue samples\n",
      "INFO: Reannotating probes with information from Arnatkevic̆iūtė et al., 2019, NeuroImage\n",
      "INFO: Filtering probes with intensity-based threshold of 0.5\n",
      "INFO: 31569 probes survive intensity-based filtering\n",
      "INFO: Reducing probes indexing same gene with method: diff_stability\n",
      "INFO: 15633 genes remain after probe filtering + selection\n",
      "INFO: 771 / 904 samples matched to regions for donor #9861\n",
      "INFO: 685 / 845 samples matched to regions for donor #10021\n",
      "INFO: 271 / 353 samples matched to regions for donor #12876\n",
      "INFO: 414 / 513 samples matched to regions for donor #14380\n",
      "INFO: 366 / 437 samples matched to regions for donor #15496\n",
      "INFO: 320 / 414 samples matched to regions for donor #15697\n",
      "INFO: Aggregating samples to regions with provided region_agg: donors\n",
      "INFO: Dropping 0 gene from concatenated expression data due to poor normalization\n"
     ]
    }
   ],
   "source": [
    "expression = abagen.get_expression_data(atlas['image'])"
   ]
  },
  {
   "cell_type": "code",
   "execution_count": 6,
   "metadata": {
    "slideshow": {
     "slide_type": "fragment"
    }
   },
   "outputs": [
    {
     "data": {
      "text/html": [
       "<div>\n",
       "<style scoped>\n",
       "    .dataframe tbody tr th:only-of-type {\n",
       "        vertical-align: middle;\n",
       "    }\n",
       "\n",
       "    .dataframe tbody tr th {\n",
       "        vertical-align: top;\n",
       "    }\n",
       "\n",
       "    .dataframe thead th {\n",
       "        text-align: right;\n",
       "    }\n",
       "</style>\n",
       "<table border=\"1\" class=\"dataframe\">\n",
       "  <thead>\n",
       "    <tr style=\"text-align: right;\">\n",
       "      <th>gene_symbol</th>\n",
       "      <th>A1BG</th>\n",
       "      <th>A1BG-AS1</th>\n",
       "      <th>A2M</th>\n",
       "      <th>A2ML1</th>\n",
       "      <th>A3GALT2</th>\n",
       "      <th>A4GALT</th>\n",
       "      <th>AAAS</th>\n",
       "      <th>AACS</th>\n",
       "      <th>AADACL3</th>\n",
       "      <th>AADAT</th>\n",
       "      <th>...</th>\n",
       "      <th>ZW10</th>\n",
       "      <th>ZWILCH</th>\n",
       "      <th>ZWINT</th>\n",
       "      <th>ZXDA</th>\n",
       "      <th>ZXDB</th>\n",
       "      <th>ZXDC</th>\n",
       "      <th>ZYG11B</th>\n",
       "      <th>ZYX</th>\n",
       "      <th>ZZEF1</th>\n",
       "      <th>ZZZ3</th>\n",
       "    </tr>\n",
       "    <tr>\n",
       "      <th>label</th>\n",
       "      <th></th>\n",
       "      <th></th>\n",
       "      <th></th>\n",
       "      <th></th>\n",
       "      <th></th>\n",
       "      <th></th>\n",
       "      <th></th>\n",
       "      <th></th>\n",
       "      <th></th>\n",
       "      <th></th>\n",
       "      <th></th>\n",
       "      <th></th>\n",
       "      <th></th>\n",
       "      <th></th>\n",
       "      <th></th>\n",
       "      <th></th>\n",
       "      <th></th>\n",
       "      <th></th>\n",
       "      <th></th>\n",
       "      <th></th>\n",
       "      <th></th>\n",
       "    </tr>\n",
       "  </thead>\n",
       "  <tbody>\n",
       "    <tr>\n",
       "      <th>1</th>\n",
       "      <td>0.586156</td>\n",
       "      <td>0.681968</td>\n",
       "      <td>0.456908</td>\n",
       "      <td>0.376798</td>\n",
       "      <td>0.458322</td>\n",
       "      <td>0.495414</td>\n",
       "      <td>0.497632</td>\n",
       "      <td>0.870564</td>\n",
       "      <td>0.445209</td>\n",
       "      <td>0.629681</td>\n",
       "      <td>...</td>\n",
       "      <td>0.492343</td>\n",
       "      <td>0.632688</td>\n",
       "      <td>0.589239</td>\n",
       "      <td>0.426403</td>\n",
       "      <td>0.509227</td>\n",
       "      <td>0.428817</td>\n",
       "      <td>0.748770</td>\n",
       "      <td>0.629679</td>\n",
       "      <td>0.374947</td>\n",
       "      <td>0.488809</td>\n",
       "    </tr>\n",
       "    <tr>\n",
       "      <th>2</th>\n",
       "      <td>0.519457</td>\n",
       "      <td>0.649407</td>\n",
       "      <td>0.391291</td>\n",
       "      <td>0.417994</td>\n",
       "      <td>0.502192</td>\n",
       "      <td>0.461924</td>\n",
       "      <td>0.363597</td>\n",
       "      <td>0.804507</td>\n",
       "      <td>0.550718</td>\n",
       "      <td>0.524759</td>\n",
       "      <td>...</td>\n",
       "      <td>0.531772</td>\n",
       "      <td>0.632074</td>\n",
       "      <td>0.452754</td>\n",
       "      <td>0.470452</td>\n",
       "      <td>0.559990</td>\n",
       "      <td>0.477254</td>\n",
       "      <td>0.739577</td>\n",
       "      <td>0.552037</td>\n",
       "      <td>0.293777</td>\n",
       "      <td>0.563252</td>\n",
       "    </tr>\n",
       "    <tr>\n",
       "      <th>3</th>\n",
       "      <td>NaN</td>\n",
       "      <td>NaN</td>\n",
       "      <td>NaN</td>\n",
       "      <td>NaN</td>\n",
       "      <td>NaN</td>\n",
       "      <td>NaN</td>\n",
       "      <td>NaN</td>\n",
       "      <td>NaN</td>\n",
       "      <td>NaN</td>\n",
       "      <td>NaN</td>\n",
       "      <td>...</td>\n",
       "      <td>NaN</td>\n",
       "      <td>NaN</td>\n",
       "      <td>NaN</td>\n",
       "      <td>NaN</td>\n",
       "      <td>NaN</td>\n",
       "      <td>NaN</td>\n",
       "      <td>NaN</td>\n",
       "      <td>NaN</td>\n",
       "      <td>NaN</td>\n",
       "      <td>NaN</td>\n",
       "    </tr>\n",
       "    <tr>\n",
       "      <th>4</th>\n",
       "      <td>0.584332</td>\n",
       "      <td>0.693055</td>\n",
       "      <td>0.389392</td>\n",
       "      <td>0.365175</td>\n",
       "      <td>0.390823</td>\n",
       "      <td>0.507872</td>\n",
       "      <td>0.431360</td>\n",
       "      <td>0.814052</td>\n",
       "      <td>0.425373</td>\n",
       "      <td>0.599436</td>\n",
       "      <td>...</td>\n",
       "      <td>0.465810</td>\n",
       "      <td>0.675556</td>\n",
       "      <td>0.571671</td>\n",
       "      <td>0.438606</td>\n",
       "      <td>0.453233</td>\n",
       "      <td>0.413996</td>\n",
       "      <td>0.714243</td>\n",
       "      <td>0.582303</td>\n",
       "      <td>0.335031</td>\n",
       "      <td>0.609565</td>\n",
       "    </tr>\n",
       "    <tr>\n",
       "      <th>5</th>\n",
       "      <td>0.618589</td>\n",
       "      <td>0.653087</td>\n",
       "      <td>0.531019</td>\n",
       "      <td>0.402368</td>\n",
       "      <td>0.428763</td>\n",
       "      <td>0.514913</td>\n",
       "      <td>0.602692</td>\n",
       "      <td>0.814974</td>\n",
       "      <td>0.361631</td>\n",
       "      <td>0.617771</td>\n",
       "      <td>...</td>\n",
       "      <td>0.589992</td>\n",
       "      <td>0.613562</td>\n",
       "      <td>0.453932</td>\n",
       "      <td>0.412923</td>\n",
       "      <td>0.401131</td>\n",
       "      <td>0.422016</td>\n",
       "      <td>0.712313</td>\n",
       "      <td>0.705803</td>\n",
       "      <td>0.410380</td>\n",
       "      <td>0.651239</td>\n",
       "    </tr>\n",
       "  </tbody>\n",
       "</table>\n",
       "<p>5 rows × 15633 columns</p>\n",
       "</div>"
      ],
      "text/plain": [
       "gene_symbol      A1BG  A1BG-AS1       A2M     A2ML1   A3GALT2    A4GALT  \\\n",
       "label                                                                     \n",
       "1            0.586156  0.681968  0.456908  0.376798  0.458322  0.495414   \n",
       "2            0.519457  0.649407  0.391291  0.417994  0.502192  0.461924   \n",
       "3                 NaN       NaN       NaN       NaN       NaN       NaN   \n",
       "4            0.584332  0.693055  0.389392  0.365175  0.390823  0.507872   \n",
       "5            0.618589  0.653087  0.531019  0.402368  0.428763  0.514913   \n",
       "\n",
       "gene_symbol      AAAS      AACS   AADACL3     AADAT  ...      ZW10    ZWILCH  \\\n",
       "label                                                ...                       \n",
       "1            0.497632  0.870564  0.445209  0.629681  ...  0.492343  0.632688   \n",
       "2            0.363597  0.804507  0.550718  0.524759  ...  0.531772  0.632074   \n",
       "3                 NaN       NaN       NaN       NaN  ...       NaN       NaN   \n",
       "4            0.431360  0.814052  0.425373  0.599436  ...  0.465810  0.675556   \n",
       "5            0.602692  0.814974  0.361631  0.617771  ...  0.589992  0.613562   \n",
       "\n",
       "gene_symbol     ZWINT      ZXDA      ZXDB      ZXDC    ZYG11B       ZYX  \\\n",
       "label                                                                     \n",
       "1            0.589239  0.426403  0.509227  0.428817  0.748770  0.629679   \n",
       "2            0.452754  0.470452  0.559990  0.477254  0.739577  0.552037   \n",
       "3                 NaN       NaN       NaN       NaN       NaN       NaN   \n",
       "4            0.571671  0.438606  0.453233  0.413996  0.714243  0.582303   \n",
       "5            0.453932  0.412923  0.401131  0.422016  0.712313  0.705803   \n",
       "\n",
       "gene_symbol     ZZEF1      ZZZ3  \n",
       "label                            \n",
       "1            0.374947  0.488809  \n",
       "2            0.293777  0.563252  \n",
       "3                 NaN       NaN  \n",
       "4            0.335031  0.609565  \n",
       "5            0.410380  0.651239  \n",
       "\n",
       "[5 rows x 15633 columns]"
      ]
     },
     "execution_count": 6,
     "metadata": {},
     "output_type": "execute_result"
    }
   ],
   "source": [
    "expression.head()"
   ]
  },
  {
   "cell_type": "markdown",
   "metadata": {
    "slideshow": {
     "slide_type": "slide"
    }
   },
   "source": [
    "## Raw AHBA data"
   ]
  },
  {
   "cell_type": "markdown",
   "metadata": {
    "slideshow": {
     "slide_type": "fragment"
    }
   },
   "source": [
    "<center><img src=\"fig1.jpg\" alt=\"Donor-specific expression\" style=\"height: 1000px;\"/></center>"
   ]
  },
  {
   "cell_type": "markdown",
   "metadata": {
    "slideshow": {
     "slide_type": "subslide"
    }
   },
   "source": [
    "## Fetching the raw data"
   ]
  },
  {
   "cell_type": "markdown",
   "metadata": {
    "slideshow": {
     "slide_type": "fragment"
    }
   },
   "source": [
    "The raw data provided in the AHBA aren't \"raw\", _per se_, but aren't analysis ready, either:\n",
    "\n",
    "Let's take a look:"
   ]
  },
  {
   "cell_type": "code",
   "execution_count": 7,
   "metadata": {
    "slideshow": {
     "slide_type": "fragment"
    }
   },
   "outputs": [
    {
     "name": "stdout",
     "output_type": "stream",
     "text": [
      "dict_keys(['9861', '10021', '12876', '14380', '15496', '15697'])\n"
     ]
    }
   ],
   "source": [
    "files = abagen.fetch_microarray(donors='all')\n",
    "print(files.keys())"
   ]
  },
  {
   "cell_type": "code",
   "execution_count": 8,
   "metadata": {
    "slideshow": {
     "slide_type": "fragment"
    }
   },
   "outputs": [
    {
     "name": "stdout",
     "output_type": "stream",
     "text": [
      "dict_keys(['microarray', 'ontology', 'pacall', 'probes', 'annotation'])\n"
     ]
    }
   ],
   "source": [
    "print(files['9861'].keys())"
   ]
  },
  {
   "cell_type": "code",
   "execution_count": 9,
   "metadata": {
    "slideshow": {
     "slide_type": "fragment"
    }
   },
   "outputs": [
    {
     "name": "stdout",
     "output_type": "stream",
     "text": [
      "/Users/rmarkello/abagen-data/microarray/normalized_microarray_donor9861/MicroarrayExpression.csv\n"
     ]
    }
   ],
   "source": [
    "print(files['9861']['microarray'])"
   ]
  },
  {
   "cell_type": "markdown",
   "metadata": {
    "slideshow": {
     "slide_type": "subslide"
    }
   },
   "source": [
    "## Loading the raw data"
   ]
  },
  {
   "cell_type": "markdown",
   "metadata": {
    "slideshow": {
     "slide_type": "fragment"
    }
   },
   "source": [
    "The `abagen.io` module has a number of `read_X()` functions to load the different \"raw\" data files provided with the AHBA.\n",
    "\n",
    "There is a unique `read_X()` function for each filetype from the AHBA; all these functions will return a pandas.DataFrame object:"
   ]
  },
  {
   "cell_type": "code",
   "execution_count": 10,
   "metadata": {
    "slideshow": {
     "slide_type": "fragment"
    }
   },
   "outputs": [
    {
     "data": {
      "text/html": [
       "<div>\n",
       "<style scoped>\n",
       "    .dataframe tbody tr th:only-of-type {\n",
       "        vertical-align: middle;\n",
       "    }\n",
       "\n",
       "    .dataframe tbody tr th {\n",
       "        vertical-align: top;\n",
       "    }\n",
       "\n",
       "    .dataframe thead th {\n",
       "        text-align: right;\n",
       "    }\n",
       "</style>\n",
       "<table border=\"1\" class=\"dataframe\">\n",
       "  <thead>\n",
       "    <tr style=\"text-align: right;\">\n",
       "      <th>sample_id</th>\n",
       "      <th>0</th>\n",
       "      <th>1</th>\n",
       "      <th>2</th>\n",
       "      <th>3</th>\n",
       "      <th>4</th>\n",
       "      <th>5</th>\n",
       "      <th>6</th>\n",
       "      <th>7</th>\n",
       "      <th>8</th>\n",
       "      <th>9</th>\n",
       "      <th>...</th>\n",
       "      <th>936</th>\n",
       "      <th>937</th>\n",
       "      <th>938</th>\n",
       "      <th>939</th>\n",
       "      <th>940</th>\n",
       "      <th>941</th>\n",
       "      <th>942</th>\n",
       "      <th>943</th>\n",
       "      <th>944</th>\n",
       "      <th>945</th>\n",
       "    </tr>\n",
       "    <tr>\n",
       "      <th>probe_id</th>\n",
       "      <th></th>\n",
       "      <th></th>\n",
       "      <th></th>\n",
       "      <th></th>\n",
       "      <th></th>\n",
       "      <th></th>\n",
       "      <th></th>\n",
       "      <th></th>\n",
       "      <th></th>\n",
       "      <th></th>\n",
       "      <th></th>\n",
       "      <th></th>\n",
       "      <th></th>\n",
       "      <th></th>\n",
       "      <th></th>\n",
       "      <th></th>\n",
       "      <th></th>\n",
       "      <th></th>\n",
       "      <th></th>\n",
       "      <th></th>\n",
       "      <th></th>\n",
       "    </tr>\n",
       "  </thead>\n",
       "  <tbody>\n",
       "    <tr>\n",
       "      <th>1058685</th>\n",
       "      <td>3.615792</td>\n",
       "      <td>2.138074</td>\n",
       "      <td>2.480542</td>\n",
       "      <td>2.964972</td>\n",
       "      <td>2.679803</td>\n",
       "      <td>1.856238</td>\n",
       "      <td>2.280435</td>\n",
       "      <td>3.080857</td>\n",
       "      <td>2.628575</td>\n",
       "      <td>2.358912</td>\n",
       "      <td>...</td>\n",
       "      <td>3.852665</td>\n",
       "      <td>3.849358</td>\n",
       "      <td>3.018556</td>\n",
       "      <td>3.203562</td>\n",
       "      <td>2.050227</td>\n",
       "      <td>3.487880</td>\n",
       "      <td>2.354469</td>\n",
       "      <td>2.586168</td>\n",
       "      <td>3.495279</td>\n",
       "      <td>3.306209</td>\n",
       "    </tr>\n",
       "    <tr>\n",
       "      <th>1058684</th>\n",
       "      <td>1.574380</td>\n",
       "      <td>1.687217</td>\n",
       "      <td>1.975735</td>\n",
       "      <td>2.089475</td>\n",
       "      <td>1.912586</td>\n",
       "      <td>1.601138</td>\n",
       "      <td>1.626724</td>\n",
       "      <td>1.855901</td>\n",
       "      <td>1.858343</td>\n",
       "      <td>1.789023</td>\n",
       "      <td>...</td>\n",
       "      <td>1.698639</td>\n",
       "      <td>2.106493</td>\n",
       "      <td>1.573482</td>\n",
       "      <td>2.028703</td>\n",
       "      <td>2.058318</td>\n",
       "      <td>1.620506</td>\n",
       "      <td>1.802832</td>\n",
       "      <td>1.698847</td>\n",
       "      <td>1.839290</td>\n",
       "      <td>1.703562</td>\n",
       "    </tr>\n",
       "    <tr>\n",
       "      <th>1058683</th>\n",
       "      <td>1.596431</td>\n",
       "      <td>1.948371</td>\n",
       "      <td>2.191910</td>\n",
       "      <td>2.224042</td>\n",
       "      <td>2.223798</td>\n",
       "      <td>1.557563</td>\n",
       "      <td>1.940634</td>\n",
       "      <td>2.337132</td>\n",
       "      <td>2.253177</td>\n",
       "      <td>1.839538</td>\n",
       "      <td>...</td>\n",
       "      <td>1.879796</td>\n",
       "      <td>1.576539</td>\n",
       "      <td>1.835648</td>\n",
       "      <td>1.664253</td>\n",
       "      <td>2.195771</td>\n",
       "      <td>1.832431</td>\n",
       "      <td>1.993473</td>\n",
       "      <td>1.864939</td>\n",
       "      <td>2.073033</td>\n",
       "      <td>1.907132</td>\n",
       "    </tr>\n",
       "    <tr>\n",
       "      <th>1058682</th>\n",
       "      <td>4.482883</td>\n",
       "      <td>6.606044</td>\n",
       "      <td>5.261559</td>\n",
       "      <td>4.013277</td>\n",
       "      <td>5.600743</td>\n",
       "      <td>5.624775</td>\n",
       "      <td>4.552105</td>\n",
       "      <td>4.276418</td>\n",
       "      <td>5.675885</td>\n",
       "      <td>5.686694</td>\n",
       "      <td>...</td>\n",
       "      <td>4.336135</td>\n",
       "      <td>4.904766</td>\n",
       "      <td>4.305006</td>\n",
       "      <td>5.202678</td>\n",
       "      <td>4.121053</td>\n",
       "      <td>4.507000</td>\n",
       "      <td>4.123025</td>\n",
       "      <td>4.020838</td>\n",
       "      <td>4.222393</td>\n",
       "      <td>4.523669</td>\n",
       "    </tr>\n",
       "    <tr>\n",
       "      <th>1058681</th>\n",
       "      <td>6.291312</td>\n",
       "      <td>8.149890</td>\n",
       "      <td>7.948218</td>\n",
       "      <td>6.964453</td>\n",
       "      <td>8.682156</td>\n",
       "      <td>7.753634</td>\n",
       "      <td>7.462767</td>\n",
       "      <td>6.998209</td>\n",
       "      <td>7.565414</td>\n",
       "      <td>7.309235</td>\n",
       "      <td>...</td>\n",
       "      <td>6.999358</td>\n",
       "      <td>6.289043</td>\n",
       "      <td>6.515205</td>\n",
       "      <td>6.893379</td>\n",
       "      <td>6.473620</td>\n",
       "      <td>6.326008</td>\n",
       "      <td>6.264416</td>\n",
       "      <td>5.800701</td>\n",
       "      <td>5.901888</td>\n",
       "      <td>6.491646</td>\n",
       "    </tr>\n",
       "  </tbody>\n",
       "</table>\n",
       "<p>5 rows × 946 columns</p>\n",
       "</div>"
      ],
      "text/plain": [
       "sample_id       0         1         2         3         4         5    \\\n",
       "probe_id                                                                \n",
       "1058685    3.615792  2.138074  2.480542  2.964972  2.679803  1.856238   \n",
       "1058684    1.574380  1.687217  1.975735  2.089475  1.912586  1.601138   \n",
       "1058683    1.596431  1.948371  2.191910  2.224042  2.223798  1.557563   \n",
       "1058682    4.482883  6.606044  5.261559  4.013277  5.600743  5.624775   \n",
       "1058681    6.291312  8.149890  7.948218  6.964453  8.682156  7.753634   \n",
       "\n",
       "sample_id       6         7         8         9    ...       936       937  \\\n",
       "probe_id                                           ...                       \n",
       "1058685    2.280435  3.080857  2.628575  2.358912  ...  3.852665  3.849358   \n",
       "1058684    1.626724  1.855901  1.858343  1.789023  ...  1.698639  2.106493   \n",
       "1058683    1.940634  2.337132  2.253177  1.839538  ...  1.879796  1.576539   \n",
       "1058682    4.552105  4.276418  5.675885  5.686694  ...  4.336135  4.904766   \n",
       "1058681    7.462767  6.998209  7.565414  7.309235  ...  6.999358  6.289043   \n",
       "\n",
       "sample_id       938       939       940       941       942       943  \\\n",
       "probe_id                                                                \n",
       "1058685    3.018556  3.203562  2.050227  3.487880  2.354469  2.586168   \n",
       "1058684    1.573482  2.028703  2.058318  1.620506  1.802832  1.698847   \n",
       "1058683    1.835648  1.664253  2.195771  1.832431  1.993473  1.864939   \n",
       "1058682    4.305006  5.202678  4.121053  4.507000  4.123025  4.020838   \n",
       "1058681    6.515205  6.893379  6.473620  6.326008  6.264416  5.800701   \n",
       "\n",
       "sample_id       944       945  \n",
       "probe_id                       \n",
       "1058685    3.495279  3.306209  \n",
       "1058684    1.839290  1.703562  \n",
       "1058683    2.073033  1.907132  \n",
       "1058682    4.222393  4.523669  \n",
       "1058681    5.901888  6.491646  \n",
       "\n",
       "[5 rows x 946 columns]"
      ]
     },
     "execution_count": 10,
     "metadata": {},
     "output_type": "execute_result"
    }
   ],
   "source": [
    "abagen.io.read_microarray(files['9861']['microarray']).head()"
   ]
  },
  {
   "cell_type": "code",
   "execution_count": 11,
   "metadata": {
    "slideshow": {
     "slide_type": "fragment"
    }
   },
   "outputs": [
    {
     "data": {
      "text/html": [
       "<div>\n",
       "<style scoped>\n",
       "    .dataframe tbody tr th:only-of-type {\n",
       "        vertical-align: middle;\n",
       "    }\n",
       "\n",
       "    .dataframe tbody tr th {\n",
       "        vertical-align: top;\n",
       "    }\n",
       "\n",
       "    .dataframe thead th {\n",
       "        text-align: right;\n",
       "    }\n",
       "</style>\n",
       "<table border=\"1\" class=\"dataframe\">\n",
       "  <thead>\n",
       "    <tr style=\"text-align: right;\">\n",
       "      <th></th>\n",
       "      <th>structure_id</th>\n",
       "      <th>slab_num</th>\n",
       "      <th>well_id</th>\n",
       "      <th>slab_type</th>\n",
       "      <th>structure_acronym</th>\n",
       "      <th>structure_name</th>\n",
       "      <th>polygon_id</th>\n",
       "      <th>mri_voxel_x</th>\n",
       "      <th>mri_voxel_y</th>\n",
       "      <th>mri_voxel_z</th>\n",
       "      <th>mni_x</th>\n",
       "      <th>mni_y</th>\n",
       "      <th>mni_z</th>\n",
       "    </tr>\n",
       "    <tr>\n",
       "      <th>sample_id</th>\n",
       "      <th></th>\n",
       "      <th></th>\n",
       "      <th></th>\n",
       "      <th></th>\n",
       "      <th></th>\n",
       "      <th></th>\n",
       "      <th></th>\n",
       "      <th></th>\n",
       "      <th></th>\n",
       "      <th></th>\n",
       "      <th></th>\n",
       "      <th></th>\n",
       "      <th></th>\n",
       "    </tr>\n",
       "  </thead>\n",
       "  <tbody>\n",
       "    <tr>\n",
       "      <th>0</th>\n",
       "      <td>4077</td>\n",
       "      <td>22</td>\n",
       "      <td>594</td>\n",
       "      <td>CX</td>\n",
       "      <td>PCLa-i</td>\n",
       "      <td>paracentral lobule, anterior part, right, infe...</td>\n",
       "      <td>37470</td>\n",
       "      <td>87</td>\n",
       "      <td>52</td>\n",
       "      <td>116</td>\n",
       "      <td>5.9</td>\n",
       "      <td>-27.7</td>\n",
       "      <td>49.7</td>\n",
       "    </tr>\n",
       "    <tr>\n",
       "      <th>1</th>\n",
       "      <td>4323</td>\n",
       "      <td>11</td>\n",
       "      <td>2985</td>\n",
       "      <td>CX</td>\n",
       "      <td>Cl</td>\n",
       "      <td>claustrum, right</td>\n",
       "      <td>40517</td>\n",
       "      <td>66</td>\n",
       "      <td>92</td>\n",
       "      <td>63</td>\n",
       "      <td>29.2</td>\n",
       "      <td>17.0</td>\n",
       "      <td>-2.9</td>\n",
       "    </tr>\n",
       "    <tr>\n",
       "      <th>2</th>\n",
       "      <td>4323</td>\n",
       "      <td>18</td>\n",
       "      <td>2801</td>\n",
       "      <td>CX</td>\n",
       "      <td>Cl</td>\n",
       "      <td>claustrum, right</td>\n",
       "      <td>41516</td>\n",
       "      <td>66</td>\n",
       "      <td>81</td>\n",
       "      <td>104</td>\n",
       "      <td>28.2</td>\n",
       "      <td>-22.8</td>\n",
       "      <td>16.8</td>\n",
       "    </tr>\n",
       "    <tr>\n",
       "      <th>3</th>\n",
       "      <td>4440</td>\n",
       "      <td>18</td>\n",
       "      <td>2273</td>\n",
       "      <td>CX</td>\n",
       "      <td>LGd</td>\n",
       "      <td>dorsal lateral geniculate nucleus, left</td>\n",
       "      <td>41473</td>\n",
       "      <td>116</td>\n",
       "      <td>94</td>\n",
       "      <td>101</td>\n",
       "      <td>-24.6</td>\n",
       "      <td>-24.6</td>\n",
       "      <td>1.3</td>\n",
       "    </tr>\n",
       "    <tr>\n",
       "      <th>4</th>\n",
       "      <td>4266</td>\n",
       "      <td>17</td>\n",
       "      <td>2785</td>\n",
       "      <td>CX</td>\n",
       "      <td>CA4</td>\n",
       "      <td>CA4 field, right</td>\n",
       "      <td>41142</td>\n",
       "      <td>63</td>\n",
       "      <td>104</td>\n",
       "      <td>106</td>\n",
       "      <td>31.1</td>\n",
       "      <td>-31.3</td>\n",
       "      <td>-7.3</td>\n",
       "    </tr>\n",
       "  </tbody>\n",
       "</table>\n",
       "</div>"
      ],
      "text/plain": [
       "           structure_id  slab_num  well_id slab_type structure_acronym  \\\n",
       "sample_id                                                                \n",
       "0                  4077        22      594        CX            PCLa-i   \n",
       "1                  4323        11     2985        CX                Cl   \n",
       "2                  4323        18     2801        CX                Cl   \n",
       "3                  4440        18     2273        CX               LGd   \n",
       "4                  4266        17     2785        CX               CA4   \n",
       "\n",
       "                                              structure_name  polygon_id  \\\n",
       "sample_id                                                                  \n",
       "0          paracentral lobule, anterior part, right, infe...       37470   \n",
       "1                                           claustrum, right       40517   \n",
       "2                                           claustrum, right       41516   \n",
       "3                    dorsal lateral geniculate nucleus, left       41473   \n",
       "4                                           CA4 field, right       41142   \n",
       "\n",
       "           mri_voxel_x  mri_voxel_y  mri_voxel_z  mni_x  mni_y  mni_z  \n",
       "sample_id                                                              \n",
       "0                   87           52          116    5.9  -27.7   49.7  \n",
       "1                   66           92           63   29.2   17.0   -2.9  \n",
       "2                   66           81          104   28.2  -22.8   16.8  \n",
       "3                  116           94          101  -24.6  -24.6    1.3  \n",
       "4                   63          104          106   31.1  -31.3   -7.3  "
      ]
     },
     "execution_count": 11,
     "metadata": {},
     "output_type": "execute_result"
    }
   ],
   "source": [
    "abagen.io.read_annotation(files['9861']['annotation']).head()"
   ]
  },
  {
   "cell_type": "code",
   "execution_count": 12,
   "metadata": {
    "slideshow": {
     "slide_type": "fragment"
    }
   },
   "outputs": [
    {
     "data": {
      "text/html": [
       "<div>\n",
       "<style scoped>\n",
       "    .dataframe tbody tr th:only-of-type {\n",
       "        vertical-align: middle;\n",
       "    }\n",
       "\n",
       "    .dataframe tbody tr th {\n",
       "        vertical-align: top;\n",
       "    }\n",
       "\n",
       "    .dataframe thead th {\n",
       "        text-align: right;\n",
       "    }\n",
       "</style>\n",
       "<table border=\"1\" class=\"dataframe\">\n",
       "  <thead>\n",
       "    <tr style=\"text-align: right;\">\n",
       "      <th></th>\n",
       "      <th>probe_name</th>\n",
       "      <th>gene_id</th>\n",
       "      <th>gene_symbol</th>\n",
       "      <th>gene_name</th>\n",
       "      <th>entrez_id</th>\n",
       "      <th>chromosome</th>\n",
       "    </tr>\n",
       "    <tr>\n",
       "      <th>probe_id</th>\n",
       "      <th></th>\n",
       "      <th></th>\n",
       "      <th></th>\n",
       "      <th></th>\n",
       "      <th></th>\n",
       "      <th></th>\n",
       "    </tr>\n",
       "  </thead>\n",
       "  <tbody>\n",
       "    <tr>\n",
       "      <th>1058685</th>\n",
       "      <td>A_23_P20713</td>\n",
       "      <td>729</td>\n",
       "      <td>C8G</td>\n",
       "      <td>complement component 8, gamma polypeptide</td>\n",
       "      <td>733.0</td>\n",
       "      <td>9</td>\n",
       "    </tr>\n",
       "    <tr>\n",
       "      <th>1058684</th>\n",
       "      <td>CUST_15185_PI416261804</td>\n",
       "      <td>731</td>\n",
       "      <td>C9</td>\n",
       "      <td>complement component 9</td>\n",
       "      <td>735.0</td>\n",
       "      <td>5</td>\n",
       "    </tr>\n",
       "    <tr>\n",
       "      <th>1058683</th>\n",
       "      <td>A_32_P203917</td>\n",
       "      <td>731</td>\n",
       "      <td>C9</td>\n",
       "      <td>complement component 9</td>\n",
       "      <td>735.0</td>\n",
       "      <td>5</td>\n",
       "    </tr>\n",
       "    <tr>\n",
       "      <th>1058682</th>\n",
       "      <td>A_23_P138819</td>\n",
       "      <td>736</td>\n",
       "      <td>MRPL49</td>\n",
       "      <td>mitochondrial ribosomal protein L49</td>\n",
       "      <td>740.0</td>\n",
       "      <td>11</td>\n",
       "    </tr>\n",
       "    <tr>\n",
       "      <th>1058681</th>\n",
       "      <td>A_24_P232500</td>\n",
       "      <td>736</td>\n",
       "      <td>MRPL49</td>\n",
       "      <td>mitochondrial ribosomal protein L49</td>\n",
       "      <td>740.0</td>\n",
       "      <td>11</td>\n",
       "    </tr>\n",
       "  </tbody>\n",
       "</table>\n",
       "</div>"
      ],
      "text/plain": [
       "                      probe_name  gene_id gene_symbol  \\\n",
       "probe_id                                                \n",
       "1058685              A_23_P20713      729         C8G   \n",
       "1058684   CUST_15185_PI416261804      731          C9   \n",
       "1058683             A_32_P203917      731          C9   \n",
       "1058682             A_23_P138819      736      MRPL49   \n",
       "1058681             A_24_P232500      736      MRPL49   \n",
       "\n",
       "                                          gene_name  entrez_id chromosome  \n",
       "probe_id                                                                   \n",
       "1058685   complement component 8, gamma polypeptide      733.0          9  \n",
       "1058684                      complement component 9      735.0          5  \n",
       "1058683                      complement component 9      735.0          5  \n",
       "1058682         mitochondrial ribosomal protein L49      740.0         11  \n",
       "1058681         mitochondrial ribosomal protein L49      740.0         11  "
      ]
     },
     "execution_count": 12,
     "metadata": {},
     "output_type": "execute_result"
    }
   ],
   "source": [
    "abagen.io.read_probes(files['9861']['probes']).head()"
   ]
  },
  {
   "cell_type": "markdown",
   "metadata": {
    "slideshow": {
     "slide_type": "slide"
    }
   },
   "source": [
    "## Getting analysis-ready data "
   ]
  },
  {
   "cell_type": "markdown",
   "metadata": {
    "slideshow": {
     "slide_type": "fragment"
    }
   },
   "source": [
    "<center><img src=\"fig2.jpg\" alt=\"Transcriptomic processing pipeline\"/></center>"
   ]
  },
  {
   "cell_type": "markdown",
   "metadata": {
    "slideshow": {
     "slide_type": "subslide"
    }
   },
   "source": [
    "## Options, options"
   ]
  },
  {
   "cell_type": "markdown",
   "metadata": {
    "slideshow": {
     "slide_type": "fragment"
    }
   },
   "source": [
    "The *only* required parameter for `abagen.get_expression_data()` is your parcellation image (e.g., `atlas['image']`).\n",
    "\n",
    "But, there are a LOT of parameters..."
   ]
  },
  {
   "cell_type": "code",
   "execution_count": 13,
   "metadata": {
    "slideshow": {
     "slide_type": "fragment"
    }
   },
   "outputs": [
    {
     "name": "stdout",
     "output_type": "stream",
     "text": [
      "(atlas, atlas_info=None, *, ibf_threshold=0.5, probe_selection='diff_stability', donor_probes='aggregate', lr_mirror=False, exact=True, tolerance=2, sample_norm='srs', gene_norm='srs', norm_matched=True, region_agg='donors', agg_metric='mean', corrected_mni=True, reannotated=True, return_counts=False, return_donors=False, donors='all', data_dir=None, verbose=1, n_proc=1)\n"
     ]
    }
   ],
   "source": [
    "import inspect\n",
    "print(inspect.signature(abagen.get_expression_data))"
   ]
  },
  {
   "cell_type": "markdown",
   "metadata": {
    "slideshow": {
     "slide_type": "fragment"
    }
   },
   "source": [
    "We're...not going to go through all of these—but we will touch on a few as they relate to the article!\n",
    "\n",
    "(For a thorough treatment of all the parameters, check out our [documentation](https://abagen.readthedocs.io)!)"
   ]
  },
  {
   "cell_type": "markdown",
   "metadata": {
    "slideshow": {
     "slide_type": "slide"
    }
   },
   "source": [
    "# Intensity-based filtering"
   ]
  },
  {
   "cell_type": "markdown",
   "metadata": {
    "slideshow": {
     "slide_type": "fragment"
    }
   },
   "source": [
    "<center><img src=\"fig3.jpg\" alt=\"Intensity-based filtering\"/></center>"
   ]
  },
  {
   "cell_type": "markdown",
   "metadata": {
    "slideshow": {
     "slide_type": "subslide"
    }
   },
   "source": [
    "## Why change the IBF threshold?"
   ]
  },
  {
   "cell_type": "markdown",
   "metadata": {
    "slideshow": {
     "slide_type": "fragment"
    }
   },
   "source": [
    "1. Is \"correlation between probes\" a valid metric for determining a threshold?"
   ]
  },
  {
   "cell_type": "markdown",
   "metadata": {
    "slideshow": {
     "slide_type": "fragment"
    }
   },
   "source": [
    "2. IBF will remove some genes entirely—it's possible to have hypothesis-driven reasons for wanting to investigate those!"
   ]
  },
  {
   "cell_type": "markdown",
   "metadata": {
    "slideshow": {
     "slide_type": "subslide"
    }
   },
   "source": [
    "## Intensity-based filtering in `abagen`"
   ]
  },
  {
   "cell_type": "markdown",
   "metadata": {
    "slideshow": {
     "slide_type": "fragment"
    }
   },
   "source": [
    "- Controlled via the `ibf_threshold` parameter, which can range from 0 to 1"
   ]
  },
  {
   "cell_type": "markdown",
   "metadata": {
    "slideshow": {
     "slide_type": "fragment"
    }
   },
   "source": [
    "- Defaults to `ibf_threshold=0.5`"
   ]
  },
  {
   "cell_type": "markdown",
   "metadata": {
    "slideshow": {
     "slide_type": "slide"
    }
   },
   "source": [
    "# Probe selection methods"
   ]
  },
  {
   "cell_type": "markdown",
   "metadata": {
    "slideshow": {
     "slide_type": "fragment"
    }
   },
   "source": [
    "<center><img src=\"fig4.jpg\" alt=\"Probe selection methods\"/></center>"
   ]
  },
  {
   "cell_type": "markdown",
   "metadata": {
    "slideshow": {
     "slide_type": "subslide"
    }
   },
   "source": [
    "## Why change the probe selection method?"
   ]
  },
  {
   "cell_type": "markdown",
   "metadata": {
    "slideshow": {
     "slide_type": "fragment"
    }
   },
   "source": [
    "1. Precedent: different papers have done different things!"
   ]
  },
  {
   "cell_type": "markdown",
   "metadata": {
    "slideshow": {
     "slide_type": "fragment"
    }
   },
   "source": [
    "2. Comparisons to RNA-seq: a true gold standard?"
   ]
  },
  {
   "cell_type": "markdown",
   "metadata": {
    "slideshow": {
     "slide_type": "subslide"
    }
   },
   "source": [
    "## Probe selection methods in `abagen`"
   ]
  },
  {
   "cell_type": "markdown",
   "metadata": {
    "slideshow": {
     "slide_type": "fragment"
    }
   },
   "source": [
    "- Controlled via the `probe_selection` parameter, which defaults to using differential stability"
   ]
  },
  {
   "cell_type": "markdown",
   "metadata": {
    "slideshow": {
     "slide_type": "fragment"
    }
   },
   "source": [
    "- Includes options:\n",
    "    1. `'average'`\n",
    "    1. `'max_intensity'`\n",
    "    1. `'max_variance'`\n",
    "    1. `'pc_loading'`\n",
    "    1. `'corr_variance'`\n",
    "    1. `'corr_intensity'`\n",
    "    1. `'diff_stability'`\n",
    "    1. `'rnaseq'`"
   ]
  },
  {
   "cell_type": "markdown",
   "metadata": {
    "slideshow": {
     "slide_type": "slide"
    }
   },
   "source": [
    "# Constraining sample-to-region matching"
   ]
  },
  {
   "cell_type": "markdown",
   "metadata": {
    "slideshow": {
     "slide_type": "fragment"
    }
   },
   "source": [
    "<center><img src=\"fig5.jpg\" alt=\"Constraining sample-to-region matching\"/></center>"
   ]
  },
  {
   "cell_type": "markdown",
   "metadata": {
    "slideshow": {
     "slide_type": "subslide"
    }
   },
   "source": [
    "## Why (not) constrain sample-to-region matching?"
   ]
  },
  {
   "cell_type": "markdown",
   "metadata": {
    "slideshow": {
     "slide_type": "fragment"
    }
   },
   "source": [
    "1. Constrain: Improves accuracy of anatomical localization"
   ]
  },
  {
   "cell_type": "markdown",
   "metadata": {
    "slideshow": {
     "slide_type": "fragment"
    }
   },
   "source": [
    "2. Don't constrain: Fewer samples assigned --> losing (very precious!) information"
   ]
  },
  {
   "cell_type": "markdown",
   "metadata": {
    "slideshow": {
     "slide_type": "subslide"
    }
   },
   "source": [
    "## Defining your parcellation"
   ]
  },
  {
   "cell_type": "markdown",
   "metadata": {
    "slideshow": {
     "slide_type": "fragment"
    }
   },
   "source": [
    "`abagen` can constrain sample-to-region matching, but it's not _quite_ so simple as just changing a single parameter!\n",
    "\n",
    "Let's take a look at the DK atlas shipped with `abagen`:"
   ]
  },
  {
   "cell_type": "code",
   "execution_count": 14,
   "metadata": {
    "slideshow": {
     "slide_type": "fragment"
    }
   },
   "outputs": [],
   "source": [
    "atlas = abagen.fetch_desikan_killiany()"
   ]
  },
  {
   "cell_type": "markdown",
   "metadata": {
    "slideshow": {
     "slide_type": "fragment"
    }
   },
   "source": [
    "The `atlas` object returned by `abagen.fetch_desikan_killiany()` is a dictionary with two keys: `'image'` and `'info'`:"
   ]
  },
  {
   "cell_type": "code",
   "execution_count": 15,
   "metadata": {
    "slideshow": {
     "slide_type": "fragment"
    }
   },
   "outputs": [
    {
     "name": "stdout",
     "output_type": "stream",
     "text": [
      "/Users/rmarkello/gitrepos/abagen/abagen/data/atlas-desikankilliany.nii.gz\n",
      "/Users/rmarkello/gitrepos/abagen/abagen/data/atlas-desikankilliany.csv\n"
     ]
    }
   ],
   "source": [
    "print(atlas['image'], atlas['info'], sep='\\n')"
   ]
  },
  {
   "cell_type": "markdown",
   "metadata": {
    "slideshow": {
     "slide_type": "fragment"
    }
   },
   "source": [
    "The .nii.gz image is just a standard parcellation image. The format of CSV file, however, is what we're interested in now:"
   ]
  },
  {
   "cell_type": "code",
   "execution_count": 16,
   "metadata": {
    "slideshow": {
     "slide_type": "fragment"
    }
   },
   "outputs": [
    {
     "data": {
      "text/html": [
       "<div>\n",
       "<style scoped>\n",
       "    .dataframe tbody tr th:only-of-type {\n",
       "        vertical-align: middle;\n",
       "    }\n",
       "\n",
       "    .dataframe tbody tr th {\n",
       "        vertical-align: top;\n",
       "    }\n",
       "\n",
       "    .dataframe thead th {\n",
       "        text-align: right;\n",
       "    }\n",
       "</style>\n",
       "<table border=\"1\" class=\"dataframe\">\n",
       "  <thead>\n",
       "    <tr style=\"text-align: right;\">\n",
       "      <th></th>\n",
       "      <th>id</th>\n",
       "      <th>label</th>\n",
       "      <th>hemisphere</th>\n",
       "      <th>structure</th>\n",
       "    </tr>\n",
       "  </thead>\n",
       "  <tbody>\n",
       "    <tr>\n",
       "      <th>0</th>\n",
       "      <td>1</td>\n",
       "      <td>lateralorbitofrontal_rh</td>\n",
       "      <td>R</td>\n",
       "      <td>cortex</td>\n",
       "    </tr>\n",
       "    <tr>\n",
       "      <th>1</th>\n",
       "      <td>2</td>\n",
       "      <td>parsorbitalis_rh</td>\n",
       "      <td>R</td>\n",
       "      <td>cortex</td>\n",
       "    </tr>\n",
       "    <tr>\n",
       "      <th>2</th>\n",
       "      <td>3</td>\n",
       "      <td>frontalpole_rh</td>\n",
       "      <td>R</td>\n",
       "      <td>cortex</td>\n",
       "    </tr>\n",
       "    <tr>\n",
       "      <th>3</th>\n",
       "      <td>4</td>\n",
       "      <td>medialorbitofrontal_rh</td>\n",
       "      <td>R</td>\n",
       "      <td>cortex</td>\n",
       "    </tr>\n",
       "    <tr>\n",
       "      <th>4</th>\n",
       "      <td>5</td>\n",
       "      <td>parstriangularis_rh</td>\n",
       "      <td>R</td>\n",
       "      <td>cortex</td>\n",
       "    </tr>\n",
       "  </tbody>\n",
       "</table>\n",
       "</div>"
      ],
      "text/plain": [
       "   id                    label hemisphere structure\n",
       "0   1  lateralorbitofrontal_rh          R    cortex\n",
       "1   2         parsorbitalis_rh          R    cortex\n",
       "2   3           frontalpole_rh          R    cortex\n",
       "3   4   medialorbitofrontal_rh          R    cortex\n",
       "4   5      parstriangularis_rh          R    cortex"
      ]
     },
     "execution_count": 16,
     "metadata": {},
     "output_type": "execute_result"
    }
   ],
   "source": [
    "import pandas as pd\n",
    "pd.read_csv(atlas['info']).head()"
   ]
  },
  {
   "cell_type": "markdown",
   "metadata": {
    "slideshow": {
     "slide_type": "subslide"
    }
   },
   "source": [
    "## Providing atlas info"
   ]
  },
  {
   "cell_type": "markdown",
   "metadata": {
    "slideshow": {
     "slide_type": "fragment"
    }
   },
   "source": [
    "We can provide this CSV file to the `abagen.get_expression_data()` function via the `atlas_info` parameter to constrain matching.\n",
    "\n",
    "We can also specify a distance `tolerance` beyond which samples will not be matched to regions."
   ]
  },
  {
   "cell_type": "markdown",
   "metadata": {
    "slideshow": {
     "slide_type": "fragment"
    }
   },
   "source": [
    "When making your own CSV file, you can use the `check_atlas_info()` function to confirm it is appropriately formed:"
   ]
  },
  {
   "cell_type": "code",
   "execution_count": 17,
   "metadata": {
    "scrolled": false,
    "slideshow": {
     "slide_type": "fragment"
    }
   },
   "outputs": [
    {
     "data": {
      "text/html": [
       "<div>\n",
       "<style scoped>\n",
       "    .dataframe tbody tr th:only-of-type {\n",
       "        vertical-align: middle;\n",
       "    }\n",
       "\n",
       "    .dataframe tbody tr th {\n",
       "        vertical-align: top;\n",
       "    }\n",
       "\n",
       "    .dataframe thead th {\n",
       "        text-align: right;\n",
       "    }\n",
       "</style>\n",
       "<table border=\"1\" class=\"dataframe\">\n",
       "  <thead>\n",
       "    <tr style=\"text-align: right;\">\n",
       "      <th></th>\n",
       "      <th>label</th>\n",
       "      <th>hemisphere</th>\n",
       "      <th>structure</th>\n",
       "    </tr>\n",
       "    <tr>\n",
       "      <th>id</th>\n",
       "      <th></th>\n",
       "      <th></th>\n",
       "      <th></th>\n",
       "    </tr>\n",
       "  </thead>\n",
       "  <tbody>\n",
       "    <tr>\n",
       "      <th>1</th>\n",
       "      <td>lateralorbitofrontal_rh</td>\n",
       "      <td>R</td>\n",
       "      <td>cortex</td>\n",
       "    </tr>\n",
       "    <tr>\n",
       "      <th>2</th>\n",
       "      <td>parsorbitalis_rh</td>\n",
       "      <td>R</td>\n",
       "      <td>cortex</td>\n",
       "    </tr>\n",
       "    <tr>\n",
       "      <th>3</th>\n",
       "      <td>frontalpole_rh</td>\n",
       "      <td>R</td>\n",
       "      <td>cortex</td>\n",
       "    </tr>\n",
       "    <tr>\n",
       "      <th>4</th>\n",
       "      <td>medialorbitofrontal_rh</td>\n",
       "      <td>R</td>\n",
       "      <td>cortex</td>\n",
       "    </tr>\n",
       "    <tr>\n",
       "      <th>5</th>\n",
       "      <td>parstriangularis_rh</td>\n",
       "      <td>R</td>\n",
       "      <td>cortex</td>\n",
       "    </tr>\n",
       "  </tbody>\n",
       "</table>\n",
       "</div>"
      ],
      "text/plain": [
       "                      label hemisphere structure\n",
       "id                                              \n",
       "1   lateralorbitofrontal_rh          R    cortex\n",
       "2          parsorbitalis_rh          R    cortex\n",
       "3            frontalpole_rh          R    cortex\n",
       "4    medialorbitofrontal_rh          R    cortex\n",
       "5       parstriangularis_rh          R    cortex"
      ]
     },
     "execution_count": 17,
     "metadata": {},
     "output_type": "execute_result"
    }
   ],
   "source": [
    "atlas_info = abagen.utils.check_atlas_info(atlas['image'], atlas['info'])\n",
    "atlas_info.head()"
   ]
  },
  {
   "cell_type": "markdown",
   "metadata": {
    "slideshow": {
     "slide_type": "slide"
    }
   },
   "source": [
    "# Donor normalization"
   ]
  },
  {
   "cell_type": "markdown",
   "metadata": {
    "slideshow": {
     "slide_type": "fragment"
    }
   },
   "source": [
    "<center><img src=\"fig6.jpg\" alt=\"Gene normalization\"/></center>"
   ]
  },
  {
   "cell_type": "markdown",
   "metadata": {
    "slideshow": {
     "slide_type": "subslide"
    }
   },
   "source": [
    "## Why change the normalization method?"
   ]
  },
  {
   "cell_type": "markdown",
   "metadata": {
    "slideshow": {
     "slide_type": "fragment"
    }
   },
   "source": [
    "1. Differences between donors may be important or interesting"
   ]
  },
  {
   "cell_type": "markdown",
   "metadata": {
    "slideshow": {
     "slide_type": "fragment"
    }
   },
   "source": [
    "2. Scaled robust sigmoid function is relatively \"non-standard\""
   ]
  },
  {
   "cell_type": "markdown",
   "metadata": {
    "slideshow": {
     "slide_type": "subslide"
    }
   },
   "source": [
    "## Normalization, two ways"
   ]
  },
  {
   "cell_type": "markdown",
   "metadata": {
    "slideshow": {
     "slide_type": "fragment"
    }
   },
   "source": [
    "We can normalize the expression matrix for each donor two ways: across columns (i.e., row-wise) or across rows (i.e., column-wise)."
   ]
  },
  {
   "cell_type": "markdown",
   "metadata": {
    "slideshow": {
     "slide_type": "fragment"
    }
   },
   "source": [
    "The \"default\" way of thinking about normalization is column-wise, but there are considerations for why you might want to do _both_ in the AHBA."
   ]
  },
  {
   "cell_type": "markdown",
   "metadata": {
    "slideshow": {
     "slide_type": "fragment"
    }
   },
   "source": [
    "`abagen` provides two parameters for controlling these normalization procedures: `gene_norm` (column-wise normalization) and `sample_norm` (row-wise normalization)."
   ]
  },
  {
   "cell_type": "markdown",
   "metadata": {
    "slideshow": {
     "slide_type": "subslide"
    }
   },
   "source": [
    "## Normalization, nine ways"
   ]
  },
  {
   "cell_type": "markdown",
   "metadata": {
    "slideshow": {
     "slide_type": "fragment"
    }
   },
   "source": [
    "- Both `gene_norm` and `sample_norm` are set to use the scaled robust sigmoid function by default"
   ]
  },
  {
   "cell_type": "markdown",
   "metadata": {
    "slideshow": {
     "slide_type": "fragment"
    }
   },
   "source": [
    "- All options include:\n",
    "    1. `'center'`\n",
    "    1. `'zscore'`\n",
    "    1. `'minmax'`\n",
    "    1. `'sigmoid'`\n",
    "    1. `'scaled_sigmoid'`\n",
    "    1. `'scaled_sigmoid_quantiles'`\n",
    "    1. `'robust_sigmoid`'\n",
    "    1. `'scaled_robust_sigmoid'`\n",
    "    1. `'mixed_sigmoid'`"
   ]
  },
  {
   "cell_type": "markdown",
   "metadata": {
    "slideshow": {
     "slide_type": "slide"
    }
   },
   "source": [
    "# All together, now"
   ]
  },
  {
   "cell_type": "markdown",
   "metadata": {
    "slideshow": {
     "slide_type": "fragment"
    }
   },
   "source": [
    "We're going to run the `abagen.get_expression_data()` workflow two ways (changing all the options we discussed) and see how different the resulting expression matrices are:"
   ]
  },
  {
   "cell_type": "code",
   "execution_count": 18,
   "metadata": {
    "slideshow": {
     "slide_type": "fragment"
    }
   },
   "outputs": [
    {
     "name": "stderr",
     "output_type": "stream",
     "text": [
      "INFO: Group-level atlas provided; using MNI coordinates for tissue samples\n",
      "INFO: Reannotating probes with information from Arnatkevic̆iūtė et al., 2019, NeuroImage\n",
      "INFO: Filtering probes with intensity-based threshold of 0.0\n",
      "INFO: 45821 probes survive intensity-based filtering\n",
      "INFO: Reducing probes indexing same gene with method: average\n",
      "INFO: 20232 genes remain after probe filtering + selection\n",
      "INFO: 539 / 904 samples matched to regions for donor #9861\n",
      "INFO: 504 / 845 samples matched to regions for donor #10021\n",
      "INFO: 191 / 353 samples matched to regions for donor #12876\n",
      "INFO: 282 / 513 samples matched to regions for donor #14380\n",
      "INFO: 278 / 437 samples matched to regions for donor #15496\n",
      "INFO: 223 / 414 samples matched to regions for donor #15697\n",
      "INFO: Aggregating samples to regions with provided region_agg: donors\n",
      "INFO: Dropping 0 gene from concatenated expression data due to poor normalization\n"
     ]
    }
   ],
   "source": [
    "first = abagen.get_expression_data(atlas['image'], atlas_info=None, tolerance=0,\n",
    "                                   ibf_threshold=0, probe_selection='average', \n",
    "                                   gene_norm=None, sample_norm=None)"
   ]
  },
  {
   "cell_type": "code",
   "execution_count": 19,
   "metadata": {
    "slideshow": {
     "slide_type": "fragment"
    }
   },
   "outputs": [
    {
     "name": "stderr",
     "output_type": "stream",
     "text": [
      "INFO: Group-level atlas provided; using MNI coordinates for tissue samples\n",
      "INFO: Reannotating probes with information from Arnatkevic̆iūtė et al., 2019, NeuroImage\n",
      "INFO: Filtering probes with intensity-based threshold of 0.5\n",
      "INFO: 31569 probes survive intensity-based filtering\n",
      "INFO: Reducing probes indexing same gene with method: diff_stability\n",
      "INFO: 15633 genes remain after probe filtering + selection\n",
      "INFO: 737 / 904 samples matched to regions for donor #9861\n",
      "INFO: 653 / 845 samples matched to regions for donor #10021\n",
      "INFO: 254 / 353 samples matched to regions for donor #12876\n",
      "INFO: 393 / 513 samples matched to regions for donor #14380\n",
      "INFO: 357 / 437 samples matched to regions for donor #15496\n",
      "INFO: 306 / 414 samples matched to regions for donor #15697\n",
      "INFO: Aggregating samples to regions with provided region_agg: donors\n",
      "INFO: Dropping 0 gene from concatenated expression data due to poor normalization\n"
     ]
    }
   ],
   "source": [
    "second = abagen.get_expression_data(atlas['image'], atlas_info=atlas['info'], tolerance=2,\n",
    "                                    ibf_threshold=0.5, probe_selection='diff_stability',\n",
    "                                    gene_norm='srs', sample_norm='srs')"
   ]
  },
  {
   "cell_type": "markdown",
   "metadata": {
    "slideshow": {
     "slide_type": "subslide"
    }
   },
   "source": [
    "Let's take a look at those outputs:"
   ]
  },
  {
   "cell_type": "code",
   "execution_count": 20,
   "metadata": {
    "slideshow": {
     "slide_type": "fragment"
    }
   },
   "outputs": [
    {
     "data": {
      "text/plain": [
       "((83, 20232), (83, 15633))"
      ]
     },
     "execution_count": 20,
     "metadata": {},
     "output_type": "execute_result"
    }
   ],
   "source": [
    "first.shape, second.shape"
   ]
  },
  {
   "cell_type": "code",
   "execution_count": 21,
   "metadata": {
    "slideshow": {
     "slide_type": "fragment"
    }
   },
   "outputs": [
    {
     "data": {
      "text/html": [
       "<div>\n",
       "<style scoped>\n",
       "    .dataframe tbody tr th:only-of-type {\n",
       "        vertical-align: middle;\n",
       "    }\n",
       "\n",
       "    .dataframe tbody tr th {\n",
       "        vertical-align: top;\n",
       "    }\n",
       "\n",
       "    .dataframe thead th {\n",
       "        text-align: right;\n",
       "    }\n",
       "</style>\n",
       "<table border=\"1\" class=\"dataframe\">\n",
       "  <thead>\n",
       "    <tr style=\"text-align: right;\">\n",
       "      <th>gene_symbol</th>\n",
       "      <th>A1BG</th>\n",
       "      <th>A1BG-AS1</th>\n",
       "      <th>A1CF</th>\n",
       "      <th>A2M</th>\n",
       "      <th>A2ML1</th>\n",
       "      <th>A3GALT2</th>\n",
       "      <th>A4GALT</th>\n",
       "      <th>A4GNT</th>\n",
       "      <th>AAAS</th>\n",
       "      <th>AACS</th>\n",
       "      <th>...</th>\n",
       "      <th>ZWILCH</th>\n",
       "      <th>ZWINT</th>\n",
       "      <th>ZXDA</th>\n",
       "      <th>ZXDB</th>\n",
       "      <th>ZXDC</th>\n",
       "      <th>ZYG11A</th>\n",
       "      <th>ZYG11B</th>\n",
       "      <th>ZYX</th>\n",
       "      <th>ZZEF1</th>\n",
       "      <th>ZZZ3</th>\n",
       "    </tr>\n",
       "    <tr>\n",
       "      <th>label</th>\n",
       "      <th></th>\n",
       "      <th></th>\n",
       "      <th></th>\n",
       "      <th></th>\n",
       "      <th></th>\n",
       "      <th></th>\n",
       "      <th></th>\n",
       "      <th></th>\n",
       "      <th></th>\n",
       "      <th></th>\n",
       "      <th></th>\n",
       "      <th></th>\n",
       "      <th></th>\n",
       "      <th></th>\n",
       "      <th></th>\n",
       "      <th></th>\n",
       "      <th></th>\n",
       "      <th></th>\n",
       "      <th></th>\n",
       "      <th></th>\n",
       "      <th></th>\n",
       "    </tr>\n",
       "  </thead>\n",
       "  <tbody>\n",
       "    <tr>\n",
       "      <th>1</th>\n",
       "      <td>5.064230</td>\n",
       "      <td>6.336709</td>\n",
       "      <td>1.939552</td>\n",
       "      <td>7.994086</td>\n",
       "      <td>4.779077</td>\n",
       "      <td>2.886784</td>\n",
       "      <td>3.753980</td>\n",
       "      <td>1.800892</td>\n",
       "      <td>5.506346</td>\n",
       "      <td>5.925152</td>\n",
       "      <td>...</td>\n",
       "      <td>5.279338</td>\n",
       "      <td>3.846997</td>\n",
       "      <td>5.713301</td>\n",
       "      <td>6.655844</td>\n",
       "      <td>6.426669</td>\n",
       "      <td>2.362768</td>\n",
       "      <td>7.813073</td>\n",
       "      <td>6.809924</td>\n",
       "      <td>8.358709</td>\n",
       "      <td>6.467200</td>\n",
       "    </tr>\n",
       "    <tr>\n",
       "      <th>2</th>\n",
       "      <td>5.222496</td>\n",
       "      <td>6.288014</td>\n",
       "      <td>1.944873</td>\n",
       "      <td>8.026968</td>\n",
       "      <td>4.736483</td>\n",
       "      <td>2.957569</td>\n",
       "      <td>3.522940</td>\n",
       "      <td>1.740774</td>\n",
       "      <td>5.383936</td>\n",
       "      <td>6.039668</td>\n",
       "      <td>...</td>\n",
       "      <td>5.097160</td>\n",
       "      <td>3.773234</td>\n",
       "      <td>5.698729</td>\n",
       "      <td>6.790200</td>\n",
       "      <td>6.324799</td>\n",
       "      <td>2.026578</td>\n",
       "      <td>7.913221</td>\n",
       "      <td>6.728440</td>\n",
       "      <td>8.249874</td>\n",
       "      <td>6.574508</td>\n",
       "    </tr>\n",
       "    <tr>\n",
       "      <th>3</th>\n",
       "      <td>NaN</td>\n",
       "      <td>NaN</td>\n",
       "      <td>NaN</td>\n",
       "      <td>NaN</td>\n",
       "      <td>NaN</td>\n",
       "      <td>NaN</td>\n",
       "      <td>NaN</td>\n",
       "      <td>NaN</td>\n",
       "      <td>NaN</td>\n",
       "      <td>NaN</td>\n",
       "      <td>...</td>\n",
       "      <td>NaN</td>\n",
       "      <td>NaN</td>\n",
       "      <td>NaN</td>\n",
       "      <td>NaN</td>\n",
       "      <td>NaN</td>\n",
       "      <td>NaN</td>\n",
       "      <td>NaN</td>\n",
       "      <td>NaN</td>\n",
       "      <td>NaN</td>\n",
       "      <td>NaN</td>\n",
       "    </tr>\n",
       "    <tr>\n",
       "      <th>4</th>\n",
       "      <td>4.961304</td>\n",
       "      <td>6.368020</td>\n",
       "      <td>1.946954</td>\n",
       "      <td>7.985006</td>\n",
       "      <td>4.646705</td>\n",
       "      <td>2.862636</td>\n",
       "      <td>3.886428</td>\n",
       "      <td>1.783832</td>\n",
       "      <td>5.457923</td>\n",
       "      <td>5.963303</td>\n",
       "      <td>...</td>\n",
       "      <td>5.393161</td>\n",
       "      <td>3.793873</td>\n",
       "      <td>5.602328</td>\n",
       "      <td>6.535905</td>\n",
       "      <td>6.403028</td>\n",
       "      <td>2.039945</td>\n",
       "      <td>7.810693</td>\n",
       "      <td>6.840441</td>\n",
       "      <td>8.249244</td>\n",
       "      <td>6.584268</td>\n",
       "    </tr>\n",
       "    <tr>\n",
       "      <th>5</th>\n",
       "      <td>5.076635</td>\n",
       "      <td>6.204555</td>\n",
       "      <td>2.000418</td>\n",
       "      <td>8.178108</td>\n",
       "      <td>4.830417</td>\n",
       "      <td>2.928000</td>\n",
       "      <td>3.562473</td>\n",
       "      <td>1.971135</td>\n",
       "      <td>5.683821</td>\n",
       "      <td>5.967246</td>\n",
       "      <td>...</td>\n",
       "      <td>5.190318</td>\n",
       "      <td>3.701824</td>\n",
       "      <td>5.647284</td>\n",
       "      <td>6.466618</td>\n",
       "      <td>6.372863</td>\n",
       "      <td>2.187355</td>\n",
       "      <td>7.633402</td>\n",
       "      <td>6.914736</td>\n",
       "      <td>8.353904</td>\n",
       "      <td>6.452066</td>\n",
       "    </tr>\n",
       "  </tbody>\n",
       "</table>\n",
       "<p>5 rows × 20232 columns</p>\n",
       "</div>"
      ],
      "text/plain": [
       "gene_symbol      A1BG  A1BG-AS1      A1CF       A2M     A2ML1   A3GALT2  \\\n",
       "label                                                                     \n",
       "1            5.064230  6.336709  1.939552  7.994086  4.779077  2.886784   \n",
       "2            5.222496  6.288014  1.944873  8.026968  4.736483  2.957569   \n",
       "3                 NaN       NaN       NaN       NaN       NaN       NaN   \n",
       "4            4.961304  6.368020  1.946954  7.985006  4.646705  2.862636   \n",
       "5            5.076635  6.204555  2.000418  8.178108  4.830417  2.928000   \n",
       "\n",
       "gene_symbol    A4GALT     A4GNT      AAAS      AACS  ...    ZWILCH     ZWINT  \\\n",
       "label                                                ...                       \n",
       "1            3.753980  1.800892  5.506346  5.925152  ...  5.279338  3.846997   \n",
       "2            3.522940  1.740774  5.383936  6.039668  ...  5.097160  3.773234   \n",
       "3                 NaN       NaN       NaN       NaN  ...       NaN       NaN   \n",
       "4            3.886428  1.783832  5.457923  5.963303  ...  5.393161  3.793873   \n",
       "5            3.562473  1.971135  5.683821  5.967246  ...  5.190318  3.701824   \n",
       "\n",
       "gene_symbol      ZXDA      ZXDB      ZXDC    ZYG11A    ZYG11B       ZYX  \\\n",
       "label                                                                     \n",
       "1            5.713301  6.655844  6.426669  2.362768  7.813073  6.809924   \n",
       "2            5.698729  6.790200  6.324799  2.026578  7.913221  6.728440   \n",
       "3                 NaN       NaN       NaN       NaN       NaN       NaN   \n",
       "4            5.602328  6.535905  6.403028  2.039945  7.810693  6.840441   \n",
       "5            5.647284  6.466618  6.372863  2.187355  7.633402  6.914736   \n",
       "\n",
       "gene_symbol     ZZEF1      ZZZ3  \n",
       "label                            \n",
       "1            8.358709  6.467200  \n",
       "2            8.249874  6.574508  \n",
       "3                 NaN       NaN  \n",
       "4            8.249244  6.584268  \n",
       "5            8.353904  6.452066  \n",
       "\n",
       "[5 rows x 20232 columns]"
      ]
     },
     "execution_count": 21,
     "metadata": {},
     "output_type": "execute_result"
    }
   ],
   "source": [
    "first.head()"
   ]
  },
  {
   "cell_type": "code",
   "execution_count": 22,
   "metadata": {
    "slideshow": {
     "slide_type": "fragment"
    }
   },
   "outputs": [
    {
     "data": {
      "text/html": [
       "<div>\n",
       "<style scoped>\n",
       "    .dataframe tbody tr th:only-of-type {\n",
       "        vertical-align: middle;\n",
       "    }\n",
       "\n",
       "    .dataframe tbody tr th {\n",
       "        vertical-align: top;\n",
       "    }\n",
       "\n",
       "    .dataframe thead th {\n",
       "        text-align: right;\n",
       "    }\n",
       "</style>\n",
       "<table border=\"1\" class=\"dataframe\">\n",
       "  <thead>\n",
       "    <tr style=\"text-align: right;\">\n",
       "      <th>gene_symbol</th>\n",
       "      <th>A1BG</th>\n",
       "      <th>A1BG-AS1</th>\n",
       "      <th>A2M</th>\n",
       "      <th>A2ML1</th>\n",
       "      <th>A3GALT2</th>\n",
       "      <th>A4GALT</th>\n",
       "      <th>AAAS</th>\n",
       "      <th>AACS</th>\n",
       "      <th>AADACL3</th>\n",
       "      <th>AADAT</th>\n",
       "      <th>...</th>\n",
       "      <th>ZW10</th>\n",
       "      <th>ZWILCH</th>\n",
       "      <th>ZWINT</th>\n",
       "      <th>ZXDA</th>\n",
       "      <th>ZXDB</th>\n",
       "      <th>ZXDC</th>\n",
       "      <th>ZYG11B</th>\n",
       "      <th>ZYX</th>\n",
       "      <th>ZZEF1</th>\n",
       "      <th>ZZZ3</th>\n",
       "    </tr>\n",
       "    <tr>\n",
       "      <th>label</th>\n",
       "      <th></th>\n",
       "      <th></th>\n",
       "      <th></th>\n",
       "      <th></th>\n",
       "      <th></th>\n",
       "      <th></th>\n",
       "      <th></th>\n",
       "      <th></th>\n",
       "      <th></th>\n",
       "      <th></th>\n",
       "      <th></th>\n",
       "      <th></th>\n",
       "      <th></th>\n",
       "      <th></th>\n",
       "      <th></th>\n",
       "      <th></th>\n",
       "      <th></th>\n",
       "      <th></th>\n",
       "      <th></th>\n",
       "      <th></th>\n",
       "      <th></th>\n",
       "    </tr>\n",
       "  </thead>\n",
       "  <tbody>\n",
       "    <tr>\n",
       "      <th>1</th>\n",
       "      <td>0.589953</td>\n",
       "      <td>0.681338</td>\n",
       "      <td>0.458420</td>\n",
       "      <td>0.376497</td>\n",
       "      <td>0.459068</td>\n",
       "      <td>0.498341</td>\n",
       "      <td>0.501912</td>\n",
       "      <td>0.870004</td>\n",
       "      <td>0.446275</td>\n",
       "      <td>0.627343</td>\n",
       "      <td>...</td>\n",
       "      <td>0.494021</td>\n",
       "      <td>0.630781</td>\n",
       "      <td>0.588672</td>\n",
       "      <td>0.417151</td>\n",
       "      <td>0.509677</td>\n",
       "      <td>0.428733</td>\n",
       "      <td>0.747304</td>\n",
       "      <td>0.628172</td>\n",
       "      <td>0.374296</td>\n",
       "      <td>0.487883</td>\n",
       "    </tr>\n",
       "    <tr>\n",
       "      <th>2</th>\n",
       "      <td>0.522952</td>\n",
       "      <td>0.648717</td>\n",
       "      <td>0.390436</td>\n",
       "      <td>0.418098</td>\n",
       "      <td>0.502325</td>\n",
       "      <td>0.462849</td>\n",
       "      <td>0.366790</td>\n",
       "      <td>0.803438</td>\n",
       "      <td>0.552393</td>\n",
       "      <td>0.521628</td>\n",
       "      <td>...</td>\n",
       "      <td>0.533568</td>\n",
       "      <td>0.629665</td>\n",
       "      <td>0.452276</td>\n",
       "      <td>0.460873</td>\n",
       "      <td>0.561362</td>\n",
       "      <td>0.477385</td>\n",
       "      <td>0.738087</td>\n",
       "      <td>0.552265</td>\n",
       "      <td>0.292999</td>\n",
       "      <td>0.562721</td>\n",
       "    </tr>\n",
       "    <tr>\n",
       "      <th>3</th>\n",
       "      <td>NaN</td>\n",
       "      <td>NaN</td>\n",
       "      <td>NaN</td>\n",
       "      <td>NaN</td>\n",
       "      <td>NaN</td>\n",
       "      <td>NaN</td>\n",
       "      <td>NaN</td>\n",
       "      <td>NaN</td>\n",
       "      <td>NaN</td>\n",
       "      <td>NaN</td>\n",
       "      <td>...</td>\n",
       "      <td>NaN</td>\n",
       "      <td>NaN</td>\n",
       "      <td>NaN</td>\n",
       "      <td>NaN</td>\n",
       "      <td>NaN</td>\n",
       "      <td>NaN</td>\n",
       "      <td>NaN</td>\n",
       "      <td>NaN</td>\n",
       "      <td>NaN</td>\n",
       "      <td>NaN</td>\n",
       "    </tr>\n",
       "    <tr>\n",
       "      <th>4</th>\n",
       "      <td>0.594355</td>\n",
       "      <td>0.692399</td>\n",
       "      <td>0.374664</td>\n",
       "      <td>0.339728</td>\n",
       "      <td>0.393235</td>\n",
       "      <td>0.504311</td>\n",
       "      <td>0.443977</td>\n",
       "      <td>0.807438</td>\n",
       "      <td>0.417533</td>\n",
       "      <td>0.586584</td>\n",
       "      <td>...</td>\n",
       "      <td>0.476738</td>\n",
       "      <td>0.692243</td>\n",
       "      <td>0.565924</td>\n",
       "      <td>0.402528</td>\n",
       "      <td>0.431880</td>\n",
       "      <td>0.415917</td>\n",
       "      <td>0.711798</td>\n",
       "      <td>0.582940</td>\n",
       "      <td>0.336172</td>\n",
       "      <td>0.615471</td>\n",
       "    </tr>\n",
       "    <tr>\n",
       "      <th>5</th>\n",
       "      <td>0.623098</td>\n",
       "      <td>0.652317</td>\n",
       "      <td>0.533122</td>\n",
       "      <td>0.401903</td>\n",
       "      <td>0.429839</td>\n",
       "      <td>0.518609</td>\n",
       "      <td>0.607626</td>\n",
       "      <td>0.814253</td>\n",
       "      <td>0.361652</td>\n",
       "      <td>0.615366</td>\n",
       "      <td>...</td>\n",
       "      <td>0.592102</td>\n",
       "      <td>0.611487</td>\n",
       "      <td>0.452955</td>\n",
       "      <td>0.403203</td>\n",
       "      <td>0.400692</td>\n",
       "      <td>0.421926</td>\n",
       "      <td>0.710485</td>\n",
       "      <td>0.704168</td>\n",
       "      <td>0.410518</td>\n",
       "      <td>0.651457</td>\n",
       "    </tr>\n",
       "  </tbody>\n",
       "</table>\n",
       "<p>5 rows × 15633 columns</p>\n",
       "</div>"
      ],
      "text/plain": [
       "gene_symbol      A1BG  A1BG-AS1       A2M     A2ML1   A3GALT2    A4GALT  \\\n",
       "label                                                                     \n",
       "1            0.589953  0.681338  0.458420  0.376497  0.459068  0.498341   \n",
       "2            0.522952  0.648717  0.390436  0.418098  0.502325  0.462849   \n",
       "3                 NaN       NaN       NaN       NaN       NaN       NaN   \n",
       "4            0.594355  0.692399  0.374664  0.339728  0.393235  0.504311   \n",
       "5            0.623098  0.652317  0.533122  0.401903  0.429839  0.518609   \n",
       "\n",
       "gene_symbol      AAAS      AACS   AADACL3     AADAT  ...      ZW10    ZWILCH  \\\n",
       "label                                                ...                       \n",
       "1            0.501912  0.870004  0.446275  0.627343  ...  0.494021  0.630781   \n",
       "2            0.366790  0.803438  0.552393  0.521628  ...  0.533568  0.629665   \n",
       "3                 NaN       NaN       NaN       NaN  ...       NaN       NaN   \n",
       "4            0.443977  0.807438  0.417533  0.586584  ...  0.476738  0.692243   \n",
       "5            0.607626  0.814253  0.361652  0.615366  ...  0.592102  0.611487   \n",
       "\n",
       "gene_symbol     ZWINT      ZXDA      ZXDB      ZXDC    ZYG11B       ZYX  \\\n",
       "label                                                                     \n",
       "1            0.588672  0.417151  0.509677  0.428733  0.747304  0.628172   \n",
       "2            0.452276  0.460873  0.561362  0.477385  0.738087  0.552265   \n",
       "3                 NaN       NaN       NaN       NaN       NaN       NaN   \n",
       "4            0.565924  0.402528  0.431880  0.415917  0.711798  0.582940   \n",
       "5            0.452955  0.403203  0.400692  0.421926  0.710485  0.704168   \n",
       "\n",
       "gene_symbol     ZZEF1      ZZZ3  \n",
       "label                            \n",
       "1            0.374296  0.487883  \n",
       "2            0.292999  0.562721  \n",
       "3                 NaN       NaN  \n",
       "4            0.336172  0.615471  \n",
       "5            0.410518  0.651457  \n",
       "\n",
       "[5 rows x 15633 columns]"
      ]
     },
     "execution_count": 22,
     "metadata": {},
     "output_type": "execute_result"
    }
   ],
   "source": [
    "second.head()"
   ]
  },
  {
   "cell_type": "markdown",
   "metadata": {
    "slideshow": {
     "slide_type": "subslide"
    }
   },
   "source": [
    "Finally, we can check the correlation between matching columns to see how \"similar\" the expression profiles are:"
   ]
  },
  {
   "cell_type": "code",
   "execution_count": 23,
   "metadata": {
    "slideshow": {
     "slide_type": "fragment"
    }
   },
   "outputs": [
    {
     "data": {
      "image/png": "[encoded data removed]",
      "text/plain": [
       "<Figure size 432x288 with 1 Axes>"
      ]
     },
     "metadata": {
      "needs_background": "light"
     },
     "output_type": "display_data"
    }
   ],
   "source": [
    "import matplotlib.pyplot as plt\n",
    "import numpy as np\n",
    "\n",
    "# find overlapping columns\n",
    "common_genes = np.intersect1d(first.columns, second.columns)\n",
    "\n",
    "# get rid of NaNs (correlations don't like those...)\n",
    "first, second = first.dropna(how='all'), second.dropna(how='all')\n",
    "\n",
    "# correlate matching columns\n",
    "correlations = abagen.utils.efficient_corr(first[common_genes], second[common_genes])\n",
    "\n",
    "# plot histogram\n",
    "plt.hist(correlations);"
   ]
  },
  {
   "cell_type": "markdown",
   "metadata": {
    "slideshow": {
     "slide_type": "slide"
    }
   },
   "source": [
    "## Summary"
   ]
  },
  {
   "cell_type": "markdown",
   "metadata": {
    "slideshow": {
     "slide_type": "fragment"
    }
   },
   "source": [
    "- The Allen Human Brain Atlas provides the most spatially-comprehensive dataset of gene expression in the human brain"
   ]
  },
  {
   "cell_type": "markdown",
   "metadata": {
    "slideshow": {
     "slide_type": "fragment"
    }
   },
   "source": [
    "- `abagen` provides a workflow for processing that data + preparing it for (most) analyss"
   ]
  },
  {
   "cell_type": "markdown",
   "metadata": {
    "slideshow": {
     "slide_type": "fragment"
    }
   },
   "source": [
    "- There are a number of options + parameters to consider when running the workflow, but there is, ultimately, no \"right\" answer"
   ]
  },
  {
   "cell_type": "markdown",
   "metadata": {
    "slideshow": {
     "slide_type": "subslide"
    }
   },
   "source": [
    "## Resources / further reading\n",
    "\n",
    "- Allen Human Brain Atlas: [human.brain-map.org](https://human.brain-map.org)\n",
    "- `abagen`: [github.com/rmarkello/abagen](https://github.com/rmarkello/abagen)\n",
    "- `abagen` documentation: [abagen.readthedocs.io](https://abagen.readthedocs.io)\n",
    "- Arnatkevic̆iūtė et al., 2018, _NeuroImage_: [doi.org/10.1016/j.neuroimage.2019.01.011](https://doi.org/10.1016/j.neuroimage.2019.01.011)"
   ]
  }
 ],
 "metadata": {
  "celltoolbar": "Slideshow",
  "kernelspec": {
   "display_name": "Python 3",
   "language": "python",
   "name": "python3"
  },
  "language_info": {
   "codemirror_mode": {
    "name": "ipython",
    "version": 3
   },
   "file_extension": ".py",
   "mimetype": "text/x-python",
   "name": "python",
   "nbconvert_exporter": "python",
   "pygments_lexer": "ipython3",
   "version": "3.7.9"
  },
  "rise": {
   "scroll": true
  }
 },
 "nbformat": 4,
 "nbformat_minor": 2
}
